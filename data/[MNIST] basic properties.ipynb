{
 "cells": [
  {
   "cell_type": "code",
   "execution_count": 1,
   "metadata": {},
   "outputs": [],
   "source": [
    "import numpy as np\n",
    "import torch\n",
    "from torchvision.datasets import MNIST        \n",
    "import torchvision.transforms as transforms\n",
    "\n",
    "dir_MNIST = '/home/hhg/Research/machine_learning/data'"
   ]
  },
  {
   "cell_type": "markdown",
   "metadata": {},
   "source": [
    "# trainsforms"
   ]
  },
  {
   "cell_type": "code",
   "execution_count": 2,
   "metadata": {},
   "outputs": [
    {
     "name": "stdout",
     "output_type": "stream",
     "text": [
      "Min Pixel Value: 0 \n",
      "Max Pixel Value: 255\n",
      "Mean Pixel Value 33.31842041015625 \n",
      "Pixel Values Std: 78.56748962402344\n",
      "Scaled Mean Pixel Value 0.13066047430038452 \n",
      "Scaled Pixel Values Std: 0.30810779333114624\n",
      "\n",
      " --- train_loader ---\n",
      "Min Pixel Value: 0 \n",
      "Max Pixel Value: 254\n"
     ]
    }
   ],
   "source": [
    "trainset = MNIST(root=dir_MNIST, train=True)\n",
    "print(f'Min Pixel Value: {trainset.data.min()} \\nMax Pixel Value: {trainset.data.max()}')\n",
    "print(f'Mean Pixel Value {trainset.data.float().mean()} \\nPixel Values Std: {trainset.data.float().std()}')\n",
    "print(f'Scaled Mean Pixel Value {trainset.data.float().mean() / 255} \\nScaled Pixel Values Std: {trainset.data.float().std() / 255}')\n",
    "\n",
    "train_loader = torch.utils.data.DataLoader(trainset, batch_size=64, shuffle=True)\n",
    "image, label = train_loader.dataset.__getitem__(10)\n",
    "image_npy = np.array(image)\n",
    "\n",
    "print('\\n --- train_loader ---')\n",
    "print(f'Min Pixel Value: {image_npy.min()} \\nMax Pixel Value: {image_npy.max()}')"
   ]
  },
  {
   "cell_type": "code",
   "execution_count": null,
   "metadata": {},
   "outputs": [],
   "source": []
  },
  {
   "cell_type": "code",
   "execution_count": 3,
   "metadata": {},
   "outputs": [
    {
     "name": "stdout",
     "output_type": "stream",
     "text": [
      "Min Pixel Value: 0 \n",
      "Max Pixel Value: 255\n",
      "Mean Pixel Value 33.31842041015625 \n",
      "Pixel Values Std: 78.56748962402344\n",
      "Scaled Mean Pixel Value 0.13066047430038452 \n",
      "Scaled Pixel Values Std: 0.30810779333114624\n",
      "\n",
      " --- train_loader ---\n",
      "Min Pixel Value: 0.0 \n",
      "Max Pixel Value: 0.9960784316062927\n"
     ]
    }
   ],
   "source": [
    "trainset = MNIST(root=dir_MNIST, train=True, transform=transforms.ToTensor())\n",
    "print(f'Min Pixel Value: {trainset.data.min()} \\nMax Pixel Value: {trainset.data.max()}')\n",
    "print(f'Mean Pixel Value {trainset.data.float().mean()} \\nPixel Values Std: {trainset.data.float().std()}')\n",
    "print(f'Scaled Mean Pixel Value {trainset.data.float().mean() / 255} \\nScaled Pixel Values Std: {trainset.data.float().std() / 255}')\n",
    "\n",
    "train_loader = torch.utils.data.DataLoader(trainset, batch_size=64, shuffle=True)\n",
    "image, label = train_loader.dataset.__getitem__(10)\n",
    "image_npy = np.array(image)\n",
    "\n",
    "print('\\n --- train_loader ---')\n",
    "print(f'Min Pixel Value: {image_npy.min()} \\nMax Pixel Value: {image_npy.max()}')"
   ]
  },
  {
   "cell_type": "code",
   "execution_count": 4,
   "metadata": {},
   "outputs": [
    {
     "name": "stdout",
     "output_type": "stream",
     "text": [
      "\n",
      " --- train_loader ---\n",
      "Min Pixel Value: -1.0 \n",
      "Max Pixel Value: 0.9921568632125854\n"
     ]
    }
   ],
   "source": [
    "img_trainsforms = transforms.Compose([transforms.ToTensor(), transforms.Normalize((0.5), (0.5))])\n",
    "\n",
    "trainset = MNIST(root=dir_MNIST, train=True, transform=img_trainsforms)\n",
    "\n",
    "train_loader = torch.utils.data.DataLoader(trainset, batch_size=64, shuffle=True)\n",
    "image, label = train_loader.dataset.__getitem__(10)\n",
    "image_npy = np.array(image)\n",
    "\n",
    "print('\\n --- train_loader ---')\n",
    "print(f'Min Pixel Value: {image_npy.min()} \\nMax Pixel Value: {image_npy.max()}')"
   ]
  },
  {
   "cell_type": "code",
   "execution_count": null,
   "metadata": {},
   "outputs": [],
   "source": []
  },
  {
   "cell_type": "markdown",
   "metadata": {},
   "source": [
    "# Display"
   ]
  },
  {
   "cell_type": "code",
   "execution_count": 5,
   "metadata": {},
   "outputs": [],
   "source": [
    "import matplotlib.pyplot as plt"
   ]
  },
  {
   "cell_type": "code",
   "execution_count": 6,
   "metadata": {},
   "outputs": [
    {
     "data": {
      "image/png": "[encoded data removed]",
      "text/plain": [
       "<Figure size 1152x432 with 10 Axes>"
      ]
     },
     "metadata": {
      "needs_background": "light"
     },
     "output_type": "display_data"
    }
   ],
   "source": [
    "plt.figure(figsize=(16, 6))\n",
    "for i in range(10):\n",
    "    plt.subplot(2, 5, i + 1)\n",
    "    image, _ = train_loader.dataset.__getitem__(i)\n",
    "    plt.imshow(image.squeeze().numpy()) # image.squeeze().numpy().shape = (28, 28)\n",
    "    #plt.imshow(image.numpy())          # image.numpy().shape           = (1, 28, 28)\n",
    "    plt.axis('off');"
   ]
  },
  {
   "cell_type": "code",
   "execution_count": 7,
   "metadata": {},
   "outputs": [
    {
     "name": "stdout",
     "output_type": "stream",
     "text": [
      "label : 2 | image size : torch.Size([1, 28, 28])\n"
     ]
    },
    {
     "data": {
      "text/plain": [
       "(-0.5, 27.5, 27.5, -0.5)"
      ]
     },
     "execution_count": 7,
     "metadata": {},
     "output_type": "execute_result"
    },
    {
     "data": {
      "image/png": "[encoded data removed]",
      "text/plain": [
       "<Figure size 432x288 with 1 Axes>"
      ]
     },
     "metadata": {
      "needs_background": "light"
     },
     "output_type": "display_data"
    }
   ],
   "source": [
    "import torchvision.utils as vutils\n",
    "# --- display single image ---\n",
    "x, label = train_loader.dataset.__getitem__(5)\n",
    "print(f'label : {label} | image size :', x.size())\n",
    "plt.imshow(vutils.make_grid(x, normalize=True).numpy().transpose((1,2,0)))\n",
    "plt.axis('off')"
   ]
  },
  {
   "cell_type": "code",
   "execution_count": null,
   "metadata": {},
   "outputs": [],
   "source": []
  }
 ],
 "metadata": {
  "kernelspec": {
   "display_name": "Python 3",
   "language": "python",
   "name": "python3"
  },
  "language_info": {
   "codemirror_mode": {
    "name": "ipython",
    "version": 3
   },
   "file_extension": ".py",
   "mimetype": "text/x-python",
   "name": "python",
   "nbconvert_exporter": "python",
   "pygments_lexer": "ipython3",
   "version": "3.8.10"
  }
 },
 "nbformat": 4,
 "nbformat_minor": 4
}
