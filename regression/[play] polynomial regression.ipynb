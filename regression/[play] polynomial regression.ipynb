{
 "cells": [
  {
   "cell_type": "code",
   "execution_count": 1,
   "id": "792c583e",
   "metadata": {},
   "outputs": [],
   "source": [
    "import numpy as np\n",
    "import pandas as pd\n",
    "import matplotlib.pyplot as plt\n",
    "\n",
    "from sklearn.model_selection import train_test_split\n",
    "from sklearn.preprocessing import PolynomialFeatures\n",
    "from sklearn.linear_model import LinearRegression"
   ]
  },
  {
   "cell_type": "code",
   "execution_count": 2,
   "id": "4f50f5fd",
   "metadata": {},
   "outputs": [
    {
     "data": {
      "text/html": [
       "<div>\n",
       "<style scoped>\n",
       "    .dataframe tbody tr th:only-of-type {\n",
       "        vertical-align: middle;\n",
       "    }\n",
       "\n",
       "    .dataframe tbody tr th {\n",
       "        vertical-align: top;\n",
       "    }\n",
       "\n",
       "    .dataframe thead th {\n",
       "        text-align: right;\n",
       "    }\n",
       "</style>\n",
       "<table border=\"1\" class=\"dataframe\">\n",
       "  <thead>\n",
       "    <tr style=\"text-align: right;\">\n",
       "      <th></th>\n",
       "      <th>x1</th>\n",
       "      <th>x2</th>\n",
       "      <th>y</th>\n",
       "    </tr>\n",
       "  </thead>\n",
       "  <tbody>\n",
       "    <tr>\n",
       "      <th>0</th>\n",
       "      <td>16.243454</td>\n",
       "      <td>13.413857</td>\n",
       "      <td>570.412369</td>\n",
       "    </tr>\n",
       "    <tr>\n",
       "      <th>1</th>\n",
       "      <td>6.117564</td>\n",
       "      <td>36.735231</td>\n",
       "      <td>111.681987</td>\n",
       "    </tr>\n",
       "    <tr>\n",
       "      <th>2</th>\n",
       "      <td>5.281718</td>\n",
       "      <td>12.104749</td>\n",
       "      <td>62.392124</td>\n",
       "    </tr>\n",
       "    <tr>\n",
       "      <th>3</th>\n",
       "      <td>10.729686</td>\n",
       "      <td>17.807356</td>\n",
       "      <td>303.538953</td>\n",
       "    </tr>\n",
       "    <tr>\n",
       "      <th>4</th>\n",
       "      <td>8.654076</td>\n",
       "      <td>32.847355</td>\n",
       "      <td>151.109269</td>\n",
       "    </tr>\n",
       "    <tr>\n",
       "      <th>...</th>\n",
       "      <td>...</td>\n",
       "      <td>...</td>\n",
       "      <td>...</td>\n",
       "    </tr>\n",
       "    <tr>\n",
       "      <th>95</th>\n",
       "      <td>0.773401</td>\n",
       "      <td>48.823150</td>\n",
       "      <td>-0.430738</td>\n",
       "    </tr>\n",
       "    <tr>\n",
       "      <th>96</th>\n",
       "      <td>3.438537</td>\n",
       "      <td>18.069578</td>\n",
       "      <td>44.308720</td>\n",
       "    </tr>\n",
       "    <tr>\n",
       "      <th>97</th>\n",
       "      <td>0.435969</td>\n",
       "      <td>12.608466</td>\n",
       "      <td>19.383456</td>\n",
       "    </tr>\n",
       "    <tr>\n",
       "      <th>98</th>\n",
       "      <td>6.200008</td>\n",
       "      <td>24.328550</td>\n",
       "      <td>78.371729</td>\n",
       "    </tr>\n",
       "    <tr>\n",
       "      <th>99</th>\n",
       "      <td>6.980320</td>\n",
       "      <td>31.333263</td>\n",
       "      <td>132.108914</td>\n",
       "    </tr>\n",
       "  </tbody>\n",
       "</table>\n",
       "<p>100 rows × 3 columns</p>\n",
       "</div>"
      ],
      "text/plain": [
       "           x1         x2           y\n",
       "0   16.243454  13.413857  570.412369\n",
       "1    6.117564  36.735231  111.681987\n",
       "2    5.281718  12.104749   62.392124\n",
       "3   10.729686  17.807356  303.538953\n",
       "4    8.654076  32.847355  151.109269\n",
       "..        ...        ...         ...\n",
       "95   0.773401  48.823150   -0.430738\n",
       "96   3.438537  18.069578   44.308720\n",
       "97   0.435969  12.608466   19.383456\n",
       "98   6.200008  24.328550   78.371729\n",
       "99   6.980320  31.333263  132.108914\n",
       "\n",
       "[100 rows x 3 columns]"
      ]
     },
     "execution_count": 2,
     "metadata": {},
     "output_type": "execute_result"
    }
   ],
   "source": [
    "np.random.seed(1)\n",
    "x1 = np.absolute(np.random.randn(100, 1)*10)\n",
    "x2 = np.absolute(np.random.randn(100, 1)*30)\n",
    "y = 2*x1**2 + 3*x1 + 2 + np.random.randn(100, 1)*20\n",
    "\n",
    "df = pd.DataFrame({\"x1\": x1.reshape(100,), \"x2\": x2.reshape(100,), \"y\": y.reshape(100,)}, index=range(0,100))\n",
    "df"
   ]
  },
  {
   "cell_type": "code",
   "execution_count": 3,
   "id": "c2199717",
   "metadata": {},
   "outputs": [
    {
     "data": {
      "image/png": "[encoded data removed]",
      "text/plain": [
       "<Figure size 1000x400 with 2 Axes>"
      ]
     },
     "metadata": {},
     "output_type": "display_data"
    }
   ],
   "source": [
    "fig, ax = plt.subplots(nrows=1, ncols=2, figsize=(10, 4))\n",
    "\n",
    "ax[0].scatter(x1, y)\n",
    "ax[1].scatter(x2, y)\n",
    "\n",
    "for i in range(2):\n",
    "    ax[i].set_title(f'y v.s. x{i}')\n",
    "    ax[i].set_xlabel(f'x{i}')\n",
    "    ax[i].set_ylabel('y')\n",
    "\n",
    "plt.show()"
   ]
  },
  {
   "cell_type": "code",
   "execution_count": 4,
   "id": "82f2b66f",
   "metadata": {},
   "outputs": [],
   "source": [
    "X, y = df[[\"x1\", \"x2\"]], df[\"y\"]\n",
    "\n",
    "poly = PolynomialFeatures(degree=2, include_bias=False)\n",
    "#poly = PolynomialFeatures(degree=2, include_bias=False, interaction_only = True)\n",
    "poly_features = poly.fit_transform(X)"
   ]
  },
  {
   "cell_type": "code",
   "execution_count": 5,
   "id": "cb4d561d",
   "metadata": {},
   "outputs": [
    {
     "data": {
      "text/plain": [
       "(100, 5)"
      ]
     },
     "execution_count": 5,
     "metadata": {},
     "output_type": "execute_result"
    }
   ],
   "source": [
    "poly_features.shape"
   ]
  },
  {
   "cell_type": "code",
   "execution_count": 6,
   "id": "8799040e",
   "metadata": {},
   "outputs": [
    {
     "name": "stdout",
     "output_type": "stream",
     "text": [
      "Column names in poly_features: ['x1' 'x2' 'x1^2' 'x1 x2' 'x2^2']\n"
     ]
    }
   ],
   "source": [
    "feature_names = poly.get_feature_names_out()\n",
    "print(\"Column names in poly_features:\", feature_names)"
   ]
  },
  {
   "cell_type": "code",
   "execution_count": 7,
   "id": "ebf1cd54",
   "metadata": {},
   "outputs": [],
   "source": [
    "X_train, X_test, y_train, y_test = train_test_split(poly_features, y, test_size=0.3, random_state=42)"
   ]
  },
  {
   "cell_type": "code",
   "execution_count": 8,
   "id": "e547e5eb",
   "metadata": {},
   "outputs": [
    {
     "data": {
      "text/html": [
       "<style>#sk-container-id-1 {color: black;}#sk-container-id-1 pre{padding: 0;}#sk-container-id-1 div.sk-toggleable {background-color: white;}#sk-container-id-1 label.sk-toggleable__label {cursor: pointer;display: block;width: 100%;margin-bottom: 0;padding: 0.3em;box-sizing: border-box;text-align: center;}#sk-container-id-1 label.sk-toggleable__label-arrow:before {content: \"▸\";float: left;margin-right: 0.25em;color: #696969;}#sk-container-id-1 label.sk-toggleable__label-arrow:hover:before {color: black;}#sk-container-id-1 div.sk-estimator:hover label.sk-toggleable__label-arrow:before {color: black;}#sk-container-id-1 div.sk-toggleable__content {max-height: 0;max-width: 0;overflow: hidden;text-align: left;background-color: #f0f8ff;}#sk-container-id-1 div.sk-toggleable__content pre {margin: 0.2em;color: black;border-radius: 0.25em;background-color: #f0f8ff;}#sk-container-id-1 input.sk-toggleable__control:checked~div.sk-toggleable__content {max-height: 200px;max-width: 100%;overflow: auto;}#sk-container-id-1 input.sk-toggleable__control:checked~label.sk-toggleable__label-arrow:before {content: \"▾\";}#sk-container-id-1 div.sk-estimator input.sk-toggleable__control:checked~label.sk-toggleable__label {background-color: #d4ebff;}#sk-container-id-1 div.sk-label input.sk-toggleable__control:checked~label.sk-toggleable__label {background-color: #d4ebff;}#sk-container-id-1 input.sk-hidden--visually {border: 0;clip: rect(1px 1px 1px 1px);clip: rect(1px, 1px, 1px, 1px);height: 1px;margin: -1px;overflow: hidden;padding: 0;position: absolute;width: 1px;}#sk-container-id-1 div.sk-estimator {font-family: monospace;background-color: #f0f8ff;border: 1px dotted black;border-radius: 0.25em;box-sizing: border-box;margin-bottom: 0.5em;}#sk-container-id-1 div.sk-estimator:hover {background-color: #d4ebff;}#sk-container-id-1 div.sk-parallel-item::after {content: \"\";width: 100%;border-bottom: 1px solid gray;flex-grow: 1;}#sk-container-id-1 div.sk-label:hover label.sk-toggleable__label {background-color: #d4ebff;}#sk-container-id-1 div.sk-serial::before {content: \"\";position: absolute;border-left: 1px solid gray;box-sizing: border-box;top: 0;bottom: 0;left: 50%;z-index: 0;}#sk-container-id-1 div.sk-serial {display: flex;flex-direction: column;align-items: center;background-color: white;padding-right: 0.2em;padding-left: 0.2em;position: relative;}#sk-container-id-1 div.sk-item {position: relative;z-index: 1;}#sk-container-id-1 div.sk-parallel {display: flex;align-items: stretch;justify-content: center;background-color: white;position: relative;}#sk-container-id-1 div.sk-item::before, #sk-container-id-1 div.sk-parallel-item::before {content: \"\";position: absolute;border-left: 1px solid gray;box-sizing: border-box;top: 0;bottom: 0;left: 50%;z-index: -1;}#sk-container-id-1 div.sk-parallel-item {display: flex;flex-direction: column;z-index: 1;position: relative;background-color: white;}#sk-container-id-1 div.sk-parallel-item:first-child::after {align-self: flex-end;width: 50%;}#sk-container-id-1 div.sk-parallel-item:last-child::after {align-self: flex-start;width: 50%;}#sk-container-id-1 div.sk-parallel-item:only-child::after {width: 0;}#sk-container-id-1 div.sk-dashed-wrapped {border: 1px dashed gray;margin: 0 0.4em 0.5em 0.4em;box-sizing: border-box;padding-bottom: 0.4em;background-color: white;}#sk-container-id-1 div.sk-label label {font-family: monospace;font-weight: bold;display: inline-block;line-height: 1.2em;}#sk-container-id-1 div.sk-label-container {text-align: center;}#sk-container-id-1 div.sk-container {/* jupyter's `normalize.less` sets `[hidden] { display: none; }` but bootstrap.min.css set `[hidden] { display: none !important; }` so we also need the `!important` here to be able to override the default hidden behavior on the sphinx rendered scikit-learn.org. See: https://github.com/scikit-learn/scikit-learn/issues/21755 */display: inline-block !important;position: relative;}#sk-container-id-1 div.sk-text-repr-fallback {display: none;}</style><div id=\"sk-container-id-1\" class=\"sk-top-container\"><div class=\"sk-text-repr-fallback\"><pre>LinearRegression()</pre><b>In a Jupyter environment, please rerun this cell to show the HTML representation or trust the notebook. <br />On GitHub, the HTML representation is unable to render, please try loading this page with nbviewer.org.</b></div><div class=\"sk-container\" hidden><div class=\"sk-item\"><div class=\"sk-estimator sk-toggleable\"><input class=\"sk-toggleable__control sk-hidden--visually\" id=\"sk-estimator-id-1\" type=\"checkbox\" checked><label for=\"sk-estimator-id-1\" class=\"sk-toggleable__label sk-toggleable__label-arrow\">LinearRegression</label><div class=\"sk-toggleable__content\"><pre>LinearRegression()</pre></div></div></div></div></div>"
      ],
      "text/plain": [
       "LinearRegression()"
      ]
     },
     "execution_count": 8,
     "metadata": {},
     "output_type": "execute_result"
    }
   ],
   "source": [
    "poly_reg_model = LinearRegression()\n",
    "poly_reg_model.fit(X_train, y_train)"
   ]
  },
  {
   "cell_type": "markdown",
   "id": "1bc011b1",
   "metadata": {},
   "source": [
    "## Check MSE"
   ]
  },
  {
   "cell_type": "code",
   "execution_count": 9,
   "id": "78e12296",
   "metadata": {},
   "outputs": [
    {
     "data": {
      "text/plain": [
       "20.93770783907864"
      ]
     },
     "execution_count": 9,
     "metadata": {},
     "output_type": "execute_result"
    }
   ],
   "source": [
    "poly_reg_y_predicted = poly_reg_model.predict(X_test)\n",
    "from sklearn.metrics import mean_squared_error\n",
    "poly_reg_rmse = np.sqrt(mean_squared_error(y_test, poly_reg_y_predicted))\n",
    "poly_reg_rmse"
   ]
  },
  {
   "cell_type": "code",
   "execution_count": 10,
   "id": "df81c379",
   "metadata": {},
   "outputs": [
    {
     "data": {
      "text/plain": [
       "62.30248745387846"
      ]
     },
     "execution_count": 10,
     "metadata": {},
     "output_type": "execute_result"
    }
   ],
   "source": [
    "X_trainL, X_testL, y_trainL, y_testL = train_test_split(X, y, test_size=0.3, random_state=42)\n",
    "lin_reg_model = LinearRegression()\n",
    "lin_reg_model.fit(X_trainL, y_trainL)\n",
    "lin_reg_y_predicted = lin_reg_model.predict(X_testL)\n",
    "lin_reg_rmse = np.sqrt(mean_squared_error(y_testL, lin_reg_y_predicted))\n",
    "lin_reg_rmse"
   ]
  },
  {
   "cell_type": "markdown",
   "id": "b9b8576c",
   "metadata": {},
   "source": [
    "## Check fitted equation"
   ]
  },
  {
   "cell_type": "code",
   "execution_count": 11,
   "id": "478a716d",
   "metadata": {},
   "outputs": [
    {
     "name": "stdout",
     "output_type": "stream",
     "text": [
      "Fitted Polynomial Function: \n",
      " \t f(x1, x2) ~ 14.12 + 3.62 * x1 + -1.09 * x2 + 1.90 * x1^2 + 0.02 * x1 x2 + 0.01 * x2^2\n"
     ]
    }
   ],
   "source": [
    "feature_names = poly.get_feature_names_out()\n",
    "\n",
    "coefficients = poly_reg_model.coef_\n",
    "intercept = poly_reg_model.intercept_\n",
    "\n",
    "poly_string = f\"{intercept:.2f}\"\n",
    "\n",
    "for i, coef in enumerate(coefficients):\n",
    "    poly_string += f\" + {coef:.2f} * {feature_names[i]}\"\n",
    "\n",
    "print(\"Fitted Polynomial Function: \\n \\t f(x1, x2) ~\", poly_string)"
   ]
  },
  {
   "cell_type": "markdown",
   "id": "0e5496c2",
   "metadata": {},
   "source": [
    "### Check results"
   ]
  },
  {
   "cell_type": "code",
   "execution_count": 12,
   "id": "a902b078",
   "metadata": {},
   "outputs": [
    {
     "data": {
      "text/plain": [
       "(30, 5)"
      ]
     },
     "execution_count": 12,
     "metadata": {},
     "output_type": "execute_result"
    }
   ],
   "source": [
    "X_test.shape"
   ]
  },
  {
   "cell_type": "code",
   "execution_count": 13,
   "id": "acec4767",
   "metadata": {},
   "outputs": [
    {
     "data": {
      "text/plain": [
       "array([ 41.6350313 ,  39.42128746, 452.06683015, 110.51727736,\n",
       "         2.65094349, 144.27230078, 185.75697454,  10.81034621,\n",
       "       462.83508143, 566.27203227,  -5.53330574, 125.27478433,\n",
       "       185.59939781, 168.88392753, 317.09608594, 171.92507502,\n",
       "        22.91712564, 167.36531564,  28.04318899,  44.46072362,\n",
       "        97.92748209,  13.34154912,   0.66046295, 131.74620326,\n",
       "       431.8011814 , 270.05259063,  22.60712417,  34.93332853,\n",
       "        33.95914936,  19.73818115])"
      ]
     },
     "execution_count": 13,
     "metadata": {},
     "output_type": "execute_result"
    }
   ],
   "source": [
    "poly_reg_y_predicted"
   ]
  },
  {
   "cell_type": "code",
   "execution_count": 14,
   "id": "adf5d45e",
   "metadata": {},
   "outputs": [
    {
     "name": "stdout",
     "output_type": "stream",
     "text": [
      "fitted: 457.33663363825696\n",
      "true: 466.8851720637676\n"
     ]
    }
   ],
   "source": [
    "i = 8\n",
    "fitted_y = 14.12 + 3.62 * X_test[i][0] + -1.09 * X_test[i][1] + 1.90 * X_test[i][2] + 0.02 * X_test[i][3] + 0.01 * X_test[i][4]\n",
    "true_y = list(y_test)[i]\n",
    "print('fitted:', fitted_y)\n",
    "print('true:', true_y)"
   ]
  },
  {
   "cell_type": "code",
   "execution_count": null,
   "id": "65154120",
   "metadata": {},
   "outputs": [],
   "source": []
  }
 ],
 "metadata": {
  "kernelspec": {
   "display_name": "base",
   "language": "python",
   "name": "base"
  },
  "language_info": {
   "codemirror_mode": {
    "name": "ipython",
    "version": 3
   },
   "file_extension": ".py",
   "mimetype": "text/x-python",
   "name": "python",
   "nbconvert_exporter": "python",
   "pygments_lexer": "ipython3",
   "version": "3.9.18"
  }
 },
 "nbformat": 4,
 "nbformat_minor": 5
}
