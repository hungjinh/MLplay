{
 "cells": [
  {
   "cell_type": "code",
   "execution_count": 1,
   "id": "86430925",
   "metadata": {},
   "outputs": [
    {
     "data": {
      "text/plain": [
       "device(type='cpu')"
      ]
     },
     "execution_count": 1,
     "metadata": {},
     "output_type": "execute_result"
    }
   ],
   "source": [
    "import torch\n",
    "from torch import nn\n",
    "from torchvision import datasets, transforms\n",
    "from torch.utils.data import DataLoader\n",
    "import torch.optim as optim\n",
    "\n",
    "import matplotlib.pyplot as plt\n",
    "plt.rc('font', size=16)\n",
    "\n",
    "%matplotlib inline\n",
    "%config InlineBackend.figure_format = 'retina'\n",
    "\n",
    "device = torch.device(\"cuda:0\" if torch.cuda.is_available() else \"cpu\")\n",
    "device"
   ]
  },
  {
   "cell_type": "markdown",
   "id": "435ac526",
   "metadata": {},
   "source": [
    "## FashionMNIST dataset"
   ]
  },
  {
   "cell_type": "code",
   "execution_count": 2,
   "id": "aabb4605",
   "metadata": {},
   "outputs": [],
   "source": [
    "data_dir = '/Users/hhg/Research/machine_learning/data/'\n",
    "fmnist_train = datasets.FashionMNIST(\n",
    "    root=data_dir, train=True, transform=transforms.ToTensor(), download=True)\n",
    "fmnist_test = datasets.FashionMNIST(\n",
    "    root=data_dir, train=False, transform=transforms.ToTensor(), download=True)"
   ]
  },
  {
   "cell_type": "code",
   "execution_count": 3,
   "id": "61232300",
   "metadata": {},
   "outputs": [],
   "source": [
    "batch_size = 128\n",
    "\n",
    "train_loader = DataLoader(fmnist_train, batch_size=batch_size, shuffle=True)\n",
    "test_loader = DataLoader(fmnist_test, batch_size=batch_size, shuffle=True)"
   ]
  },
  {
   "cell_type": "code",
   "execution_count": 4,
   "id": "3e54895e",
   "metadata": {},
   "outputs": [],
   "source": [
    "criterion = nn.CrossEntropyLoss()"
   ]
  },
  {
   "cell_type": "code",
   "execution_count": 5,
   "id": "8eff1bd5",
   "metadata": {},
   "outputs": [
    {
     "data": {
      "text/plain": [
       "torch.Size([128, 1, 28, 28])"
      ]
     },
     "execution_count": 5,
     "metadata": {},
     "output_type": "execute_result"
    }
   ],
   "source": [
    "images, labels = next(iter(train_loader))\n",
    "images.shape"
   ]
  },
  {
   "cell_type": "code",
   "execution_count": 6,
   "id": "8fd0a766",
   "metadata": {},
   "outputs": [
    {
     "name": "stdout",
     "output_type": "stream",
     "text": [
      "torch.Size([128, 6, 24, 24])\n",
      "torch.Size([128, 6, 24, 24])\n"
     ]
    }
   ],
   "source": [
    "c0 = nn.Sequential(nn.Conv2d(1, 6, kernel_size=5), nn.Sigmoid())\n",
    "cB = nn.Sequential(nn.Conv2d(1, 6, kernel_size=5), nn.BatchNorm2d(6), nn.Sigmoid())\n",
    "\n",
    "out0 = c0(images)\n",
    "outB = cB(images)\n",
    "\n",
    "print(out0.shape)\n",
    "print(outB.shape)"
   ]
  },
  {
   "cell_type": "code",
   "execution_count": 7,
   "id": "162de21d",
   "metadata": {},
   "outputs": [
    {
     "name": "stdout",
     "output_type": "stream",
     "text": [
      "torch.Size([128, 6, 12, 12])\n",
      "torch.Size([128, 6, 12, 12])\n"
     ]
    }
   ],
   "source": [
    "p0 = nn.Sequential(nn.AvgPool2d(kernel_size=2, stride=2))\n",
    "pB = nn.Sequential(nn.AvgPool2d(kernel_size=2, stride=2))\n",
    "\n",
    "out0 = p0(out0)\n",
    "outB = pB(outB)\n",
    "\n",
    "print(out0.shape)\n",
    "print(outB.shape)"
   ]
  },
  {
   "cell_type": "code",
   "execution_count": 8,
   "id": "af0df052",
   "metadata": {},
   "outputs": [
    {
     "name": "stdout",
     "output_type": "stream",
     "text": [
      "torch.Size([128, 16, 8, 8])\n",
      "torch.Size([128, 16, 8, 8])\n"
     ]
    }
   ],
   "source": [
    "c20 = nn.Sequential(nn.Conv2d(6, 16, kernel_size=5), nn.Sigmoid())\n",
    "c2B = nn.Sequential(nn.Conv2d(6, 16, kernel_size=5), nn.BatchNorm2d(16), nn.Sigmoid())\n",
    "\n",
    "out0 = c20(out0)\n",
    "outB = c2B(outB)\n",
    "\n",
    "print(out0.shape)\n",
    "print(outB.shape)"
   ]
  },
  {
   "cell_type": "code",
   "execution_count": 9,
   "id": "856bf728",
   "metadata": {},
   "outputs": [
    {
     "name": "stdout",
     "output_type": "stream",
     "text": [
      "torch.Size([128, 16, 4, 4])\n",
      "torch.Size([128, 16, 4, 4])\n"
     ]
    }
   ],
   "source": [
    "p20 = nn.Sequential(nn.AvgPool2d(kernel_size=2, stride=2))\n",
    "p2B = nn.Sequential(nn.AvgPool2d(kernel_size=2, stride=2))\n",
    "\n",
    "out0 = p20(out0)\n",
    "outB = p2B(outB)\n",
    "\n",
    "print(out0.shape)\n",
    "print(outB.shape)"
   ]
  },
  {
   "cell_type": "code",
   "execution_count": 10,
   "id": "e909a4ec",
   "metadata": {},
   "outputs": [
    {
     "name": "stdout",
     "output_type": "stream",
     "text": [
      "torch.Size([128, 256])\n",
      "torch.Size([128, 256])\n"
     ]
    }
   ],
   "source": [
    "f0 = nn.Flatten()\n",
    "fB = nn.Flatten()\n",
    "\n",
    "out0 = f0(out0)\n",
    "outB = fB(outB)\n",
    "\n",
    "print(out0.shape)\n",
    "print(outB.shape)"
   ]
  },
  {
   "cell_type": "code",
   "execution_count": null,
   "id": "ad29c139",
   "metadata": {},
   "outputs": [],
   "source": []
  },
  {
   "cell_type": "code",
   "execution_count": null,
   "id": "91305d42",
   "metadata": {},
   "outputs": [],
   "source": []
  }
 ],
 "metadata": {
  "kernelspec": {
   "display_name": "Python 3",
   "language": "python",
   "name": "python3"
  },
  "language_info": {
   "codemirror_mode": {
    "name": "ipython",
    "version": 3
   },
   "file_extension": ".py",
   "mimetype": "text/x-python",
   "name": "python",
   "nbconvert_exporter": "python",
   "pygments_lexer": "ipython3",
   "version": "3.7.4"
  }
 },
 "nbformat": 4,
 "nbformat_minor": 5
}
