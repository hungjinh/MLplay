{
 "cells": [
  {
   "cell_type": "code",
   "execution_count": 1,
   "id": "8ede1e7b",
   "metadata": {},
   "outputs": [],
   "source": [
    "import torch\n",
    "from torch import nn\n",
    "import torch.optim as optim"
   ]
  },
  {
   "cell_type": "code",
   "execution_count": 2,
   "id": "f2ad266e",
   "metadata": {},
   "outputs": [],
   "source": [
    "net = nn.Sequential(nn.Linear(1, 2, bias=False), \n",
    "                    nn.Tanh(), \n",
    "                    nn.Linear(2, 1, bias=False))\n",
    "\n",
    "learning_rate = 0.1\n",
    "optimizer = torch.optim.SGD(net.parameters(), lr=learning_rate)"
   ]
  },
  {
   "cell_type": "code",
   "execution_count": 3,
   "id": "96041b14",
   "metadata": {},
   "outputs": [
    {
     "name": "stdout",
     "output_type": "stream",
     "text": [
      "--- layer 1 weights and biases\n",
      "Parameter containing:\n",
      "tensor([[0.],\n",
      "        [0.]], requires_grad=True)\n",
      "--- layer 2 weights and biases\n",
      "Parameter containing:\n",
      "tensor([[0., 0.]], requires_grad=True)\n"
     ]
    }
   ],
   "source": [
    "# init network weights to be 0.\n",
    "nn.init.constant_(net[0].weight, 0.)\n",
    "nn.init.constant_(net[2].weight, 0.)\n",
    "\n",
    "print('--- layer 1 weights and biases')\n",
    "print(net[0].weight)\n",
    "\n",
    "print('--- layer 2 weights and biases')\n",
    "print(net[2].weight)"
   ]
  },
  {
   "cell_type": "code",
   "execution_count": 4,
   "id": "c4337af2",
   "metadata": {},
   "outputs": [],
   "source": [
    "Niters = 100\n",
    "\n",
    "for j in range(Niters):\n",
    "    \n",
    "    x = torch.rand(1)\n",
    "    out = net(x)\n",
    "    \n",
    "    optimizer.zero_grad() \n",
    "    out.backward() \n",
    "    optimizer.step()"
   ]
  },
  {
   "cell_type": "code",
   "execution_count": 5,
   "id": "af08c54e",
   "metadata": {},
   "outputs": [
    {
     "name": "stdout",
     "output_type": "stream",
     "text": [
      "--- layer 1 weights and biases\n",
      "Parameter containing:\n",
      "tensor([[0.],\n",
      "        [0.]], requires_grad=True)\n",
      "--- layer 2 weights and biases\n",
      "Parameter containing:\n",
      "tensor([[0., 0.]], requires_grad=True)\n"
     ]
    }
   ],
   "source": [
    "print('--- layer 1 weights and biases')\n",
    "print(net[0].weight)\n",
    "\n",
    "print('--- layer 2 weights and biases')\n",
    "print(net[2].weight)"
   ]
  },
  {
   "cell_type": "code",
   "execution_count": null,
   "id": "6374a7d9",
   "metadata": {},
   "outputs": [],
   "source": []
  },
  {
   "cell_type": "code",
   "execution_count": 6,
   "id": "645fbd7c",
   "metadata": {},
   "outputs": [
    {
     "name": "stdout",
     "output_type": "stream",
     "text": [
      "--- layer 1 weights and biases\n",
      "Parameter containing:\n",
      "tensor([[0.3000],\n",
      "        [0.3000]], requires_grad=True)\n",
      "--- layer 2 weights and biases\n",
      "Parameter containing:\n",
      "tensor([[0.5000, 0.5000]], requires_grad=True)\n",
      "--- layer 1 weights and biases\n",
      "Parameter containing:\n",
      "tensor([[-2.7873],\n",
      "        [-2.7873]], requires_grad=True)\n",
      "--- layer 2 weights and biases\n",
      "Parameter containing:\n",
      "tensor([[4.1369, 4.1369]], requires_grad=True)\n"
     ]
    }
   ],
   "source": [
    "import torch\n",
    "from torch import nn\n",
    "import torch.optim as optim\n",
    "\n",
    "# --- define network structure --- \n",
    "net = nn.Sequential(nn.Linear(1, 2, bias=False), \n",
    "                    nn.Tanh(), \n",
    "                    nn.Linear(2, 1, bias=False))\n",
    "\n",
    "learning_rate = 0.1\n",
    "optimizer = torch.optim.SGD(net.parameters(), lr=learning_rate)\n",
    "\n",
    "# --- init network weights to be 0. --- \n",
    "nn.init.constant_(net[0].weight, 0.3)\n",
    "nn.init.constant_(net[2].weight, 0.5)\n",
    "\n",
    "print('--- layer 1 weights and biases')\n",
    "print(net[0].weight)\n",
    "\n",
    "print('--- layer 2 weights and biases')\n",
    "print(net[2].weight)\n",
    "\n",
    "# --- training loop --- \n",
    "Niters = 100\n",
    "for j in range(Niters):\n",
    "    x = torch.rand(1)\n",
    "    out = net(x)\n",
    "    \n",
    "    optimizer.zero_grad() \n",
    "    out.backward() \n",
    "    optimizer.step()\n",
    "\n",
    "# --- check network weights again --- \n",
    "print('--- layer 1 weights and biases')\n",
    "print(net[0].weight)\n",
    "\n",
    "print('--- layer 2 weights and biases')\n",
    "print(net[2].weight)"
   ]
  },
  {
   "cell_type": "code",
   "execution_count": null,
   "id": "a2c1b65c",
   "metadata": {},
   "outputs": [],
   "source": []
  },
  {
   "cell_type": "code",
   "execution_count": null,
   "id": "4956c2c5",
   "metadata": {},
   "outputs": [],
   "source": []
  },
  {
   "cell_type": "code",
   "execution_count": null,
   "id": "f2fe1443",
   "metadata": {},
   "outputs": [],
   "source": []
  }
 ],
 "metadata": {
  "kernelspec": {
   "display_name": "Python 3",
   "language": "python",
   "name": "python3"
  },
  "language_info": {
   "codemirror_mode": {
    "name": "ipython",
    "version": 3
   },
   "file_extension": ".py",
   "mimetype": "text/x-python",
   "name": "python",
   "nbconvert_exporter": "python",
   "pygments_lexer": "ipython3",
   "version": "3.7.4"
  }
 },
 "nbformat": 4,
 "nbformat_minor": 5
}
