{
 "cells": [
  {
   "cell_type": "code",
   "execution_count": 1,
   "metadata": {},
   "outputs": [],
   "source": [
    "import torch\n",
    "import torchvision\n",
    "from torch import nn\n",
    "from torch.utils.data import DataLoader\n",
    "from torchvision import transforms\n",
    "from torchvision.datasets import MNIST\n",
    "from matplotlib import pyplot as plt\n",
    "import torchvision.utils as vutils\n",
    "\n",
    "import numpy as np"
   ]
  },
  {
   "cell_type": "code",
   "execution_count": 2,
   "metadata": {},
   "outputs": [],
   "source": [
    "%config InlineBackend.figure_format='retina'\n",
    "plt.rc('font', size=16)"
   ]
  },
  {
   "cell_type": "code",
   "execution_count": 3,
   "metadata": {},
   "outputs": [],
   "source": [
    "def output_dimension(i, p, k, s):\n",
    "    o = (i+2*p-k)/s+1\n",
    "    return o"
   ]
  },
  {
   "cell_type": "markdown",
   "metadata": {},
   "source": [
    "## Checkout put dimension after convolution"
   ]
  },
  {
   "cell_type": "code",
   "execution_count": 4,
   "metadata": {},
   "outputs": [
    {
     "name": "stdout",
     "output_type": "stream",
     "text": [
      "x original dimension : torch.Size([1, 28, 28])\n",
      "expand the x tensor with a dummy axis : torch.Size([1, 1, 28, 28])\n"
     ]
    }
   ],
   "source": [
    "x = torch.rand(1, 28, 28)  # MNIST data dimension\n",
    "\n",
    "print('x original dimension :', x.size())\n",
    "x = x[None, :]\n",
    "print('expand the x tensor with a dummy axis :', x.size())"
   ]
  },
  {
   "cell_type": "code",
   "execution_count": 5,
   "metadata": {},
   "outputs": [
    {
     "name": "stdout",
     "output_type": "stream",
     "text": [
      "expected output dimension = 16.0\n",
      "output dimension =  torch.Size([1, 4, 16, 16])\n"
     ]
    }
   ],
   "source": [
    "cov1 = nn.Conv2d(in_channels=1, out_channels=4, kernel_size=4, stride=2, padding=3)\n",
    "print(f'expected output dimension = {output_dimension(x.size()[2], p=3, k=4, s=2)}')\n",
    "xp = cov1(x)\n",
    "print(f'output dimension = ', xp.size())"
   ]
  },
  {
   "cell_type": "code",
   "execution_count": 6,
   "metadata": {},
   "outputs": [
    {
     "name": "stdout",
     "output_type": "stream",
     "text": [
      "expected output dimension = 8.0\n",
      "output dimension =  torch.Size([1, 8, 8, 8])\n"
     ]
    }
   ],
   "source": [
    "cov2 = nn.Conv2d(in_channels=4, out_channels=8, kernel_size=4, stride=2, padding=1)\n",
    "print(f'expected output dimension = {output_dimension(xp.size()[2], p=1, k=4, s=2)}')\n",
    "xp = cov2(xp)\n",
    "print(f'output dimension = ', xp.size())"
   ]
  },
  {
   "cell_type": "code",
   "execution_count": 7,
   "metadata": {},
   "outputs": [
    {
     "name": "stdout",
     "output_type": "stream",
     "text": [
      "expected output dimension = 4.0\n",
      "output dimension =  torch.Size([1, 16, 4, 4])\n"
     ]
    }
   ],
   "source": [
    "cov3 = nn.Conv2d(in_channels=8, out_channels=16, kernel_size=4, stride=2, padding=1)\n",
    "print(f'expected output dimension = {output_dimension(xp.size()[2], p=1, k=4, s=2)}')\n",
    "xp = cov3(xp)\n",
    "print(f'output dimension = ', xp.size())"
   ]
  },
  {
   "cell_type": "code",
   "execution_count": 8,
   "metadata": {},
   "outputs": [
    {
     "name": "stdout",
     "output_type": "stream",
     "text": [
      "expected output dimension = 1.0\n",
      "output dimension =  torch.Size([1, 64, 1, 1])\n"
     ]
    }
   ],
   "source": [
    "cov4 = nn.Conv2d(in_channels=16, out_channels=64, kernel_size=4, stride=2, padding=0)\n",
    "print(f'expected output dimension = {output_dimension(xp.size()[2], p=0, k=4, s=2)}')\n",
    "xp = cov4(xp)\n",
    "print(f'output dimension = ', xp.size())"
   ]
  },
  {
   "cell_type": "code",
   "execution_count": 9,
   "metadata": {},
   "outputs": [
    {
     "data": {
      "text/plain": [
       "torch.Size([1, 64, 1, 1])"
      ]
     },
     "execution_count": 9,
     "metadata": {},
     "output_type": "execute_result"
    }
   ],
   "source": [
    "# import torch.nn.functional as F\n",
    "# xp = F.adaptive_avg_pool2d(xp, 1).reshape(1, -1)\n",
    "# print(f'output dimension = ', xp.size())\n",
    "\n",
    "pl = nn.AdaptiveAvgPool2d(1)\n",
    "xp = pl(xp)\n",
    "xp.size()"
   ]
  },
  {
   "cell_type": "code",
   "execution_count": 10,
   "metadata": {},
   "outputs": [
    {
     "data": {
      "text/plain": [
       "torch.Size([1, 64])"
      ]
     },
     "execution_count": 10,
     "metadata": {},
     "output_type": "execute_result"
    }
   ],
   "source": [
    "flat = nn.Flatten()\n",
    "xp = flat(xp)\n",
    "xp.size()"
   ]
  },
  {
   "cell_type": "code",
   "execution_count": 11,
   "metadata": {},
   "outputs": [
    {
     "data": {
      "text/plain": [
       "torch.Size([1, 128])"
      ]
     },
     "execution_count": 11,
     "metadata": {},
     "output_type": "execute_result"
    }
   ],
   "source": [
    "fc1 = nn.Linear(64, 128)\n",
    "xp = fc1(xp)\n",
    "xp.size()"
   ]
  },
  {
   "cell_type": "code",
   "execution_count": 12,
   "metadata": {},
   "outputs": [
    {
     "data": {
      "text/plain": [
       "torch.Size([1, 40])"
      ]
     },
     "execution_count": 12,
     "metadata": {},
     "output_type": "execute_result"
    }
   ],
   "source": [
    "fc2 = nn.Linear(128, 20*2)\n",
    "xp = fc2(xp)\n",
    "xp.size()"
   ]
  },
  {
   "cell_type": "code",
   "execution_count": null,
   "metadata": {},
   "outputs": [],
   "source": []
  },
  {
   "cell_type": "code",
   "execution_count": 13,
   "metadata": {},
   "outputs": [
    {
     "data": {
      "text/plain": [
       "torch.Size([1, 2, 20])"
      ]
     },
     "execution_count": 13,
     "metadata": {},
     "output_type": "execute_result"
    }
   ],
   "source": [
    "d=20\n",
    "xp = torch.rand(1, 40)\n",
    "xp.view(-1, 2, d).size()"
   ]
  },
  {
   "cell_type": "markdown",
   "metadata": {},
   "source": [
    "## decoder"
   ]
  },
  {
   "cell_type": "code",
   "execution_count": 14,
   "metadata": {},
   "outputs": [
    {
     "data": {
      "text/plain": [
       "torch.Size([1, 64])"
      ]
     },
     "execution_count": 14,
     "metadata": {},
     "output_type": "execute_result"
    }
   ],
   "source": [
    "x = torch.rand(1, 20)\n",
    "fc3 = nn.Linear(20, 64)\n",
    "xp = fc3(x)\n",
    "xp.size()"
   ]
  },
  {
   "cell_type": "code",
   "execution_count": 15,
   "metadata": {},
   "outputs": [
    {
     "data": {
      "text/plain": [
       "torch.Size([1, 64, 1, 1])"
      ]
     },
     "execution_count": 15,
     "metadata": {},
     "output_type": "execute_result"
    }
   ],
   "source": [
    "unflat = nn.Unflatten(1, (64,1,1))\n",
    "xp = unflat(xp)\n",
    "xp.size()"
   ]
  },
  {
   "cell_type": "code",
   "execution_count": 16,
   "metadata": {},
   "outputs": [
    {
     "data": {
      "text/plain": [
       "torch.Size([1, 32, 4, 4])"
      ]
     },
     "execution_count": 16,
     "metadata": {},
     "output_type": "execute_result"
    }
   ],
   "source": [
    "covT1 = nn.ConvTranspose2d(64, out_channels=4*8, kernel_size=4, stride=1, padding=0)\n",
    "xp = covT1(xp)\n",
    "xp.size()"
   ]
  },
  {
   "cell_type": "code",
   "execution_count": 17,
   "metadata": {},
   "outputs": [
    {
     "data": {
      "text/plain": [
       "torch.Size([1, 16, 8, 8])"
      ]
     },
     "execution_count": 17,
     "metadata": {},
     "output_type": "execute_result"
    }
   ],
   "source": [
    "covT2 = nn.ConvTranspose2d(32, out_channels=16, kernel_size=4, stride=2, padding=1)\n",
    "xp = covT2(xp)\n",
    "xp.size()"
   ]
  },
  {
   "cell_type": "code",
   "execution_count": 18,
   "metadata": {},
   "outputs": [
    {
     "data": {
      "text/plain": [
       "torch.Size([1, 8, 16, 16])"
      ]
     },
     "execution_count": 18,
     "metadata": {},
     "output_type": "execute_result"
    }
   ],
   "source": [
    "covT2 = nn.ConvTranspose2d(16, out_channels=8, kernel_size=4, stride=2, padding=1)\n",
    "xp = covT2(xp)\n",
    "xp.size()"
   ]
  },
  {
   "cell_type": "code",
   "execution_count": 19,
   "metadata": {},
   "outputs": [
    {
     "data": {
      "text/plain": [
       "torch.Size([1, 1, 28, 28])"
      ]
     },
     "execution_count": 19,
     "metadata": {},
     "output_type": "execute_result"
    }
   ],
   "source": [
    "covT3 = nn.ConvTranspose2d(8, out_channels=1, kernel_size=4, stride=2, padding=3)\n",
    "xp = covT3(xp)\n",
    "xp.size()"
   ]
  },
  {
   "cell_type": "code",
   "execution_count": null,
   "metadata": {},
   "outputs": [],
   "source": []
  }
 ],
 "metadata": {
  "kernelspec": {
   "display_name": "Python 3",
   "language": "python",
   "name": "python3"
  },
  "language_info": {
   "codemirror_mode": {
    "name": "ipython",
    "version": 3
   },
   "file_extension": ".py",
   "mimetype": "text/x-python",
   "name": "python",
   "nbconvert_exporter": "python",
   "pygments_lexer": "ipython3",
   "version": "3.8.10"
  }
 },
 "nbformat": 4,
 "nbformat_minor": 4
}
